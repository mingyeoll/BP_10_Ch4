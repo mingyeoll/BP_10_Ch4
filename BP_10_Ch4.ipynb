{
  "nbformat": 4,
  "nbformat_minor": 0,
  "metadata": {
    "colab": {
      "provenance": [],
      "authorship_tag": "ABX9TyOJHrE4SzWFbCmsQlQzAcOY",
      "include_colab_link": true
    },
    "kernelspec": {
      "name": "python3",
      "display_name": "Python 3"
    },
    "language_info": {
      "name": "python"
    }
  },
  "cells": [
    {
      "cell_type": "markdown",
      "metadata": {
        "id": "view-in-github",
        "colab_type": "text"
      },
      "source": [
        "<a href=\"https://colab.research.google.com/github/mingyeoll/BP_10_Ch4/blob/main/BP_10_Ch4.ipynb\" target=\"_parent\"><img src=\"https://colab.research.google.com/assets/colab-badge.svg\" alt=\"Open In Colab\"/></a>"
      ]
    },
    {
      "cell_type": "code",
      "execution_count": 1,
      "metadata": {
        "colab": {
          "base_uri": "https://localhost:8080/"
        },
        "id": "oxNwPnQ72xt6",
        "outputId": "cfc975e1-7712-4a67-84b9-7f2944d0fbbc"
      },
      "outputs": [
        {
          "output_type": "stream",
          "name": "stdout",
          "text": [
            "나는 12개의 사과를 먹었다.\n"
          ]
        }
      ],
      "source": [
        "'나는 ' + str(12) + '개의 사과를 먹었다.'\n",
        "print('나는 ' + '12' + '개의 사과를 먹었다.')"
      ]
    },
    {
      "cell_type": "code",
      "source": [
        "\"apple\" + \"grape\"\n",
        "\n",
        "\"apple\" * 3"
      ],
      "metadata": {
        "colab": {
          "base_uri": "https://localhost:8080/",
          "height": 35
        },
        "id": "HBe5btj227Wv",
        "outputId": "e61ca12f-29f0-4483-aeb7-a0c5b4d1a01a"
      },
      "execution_count": 2,
      "outputs": [
        {
          "output_type": "execute_result",
          "data": {
            "text/plain": [
              "'appleappleapple'"
            ],
            "application/vnd.google.colaboratory.intrinsic+json": {
              "type": "string"
            }
          },
          "metadata": {},
          "execution_count": 2
        }
      ]
    },
    {
      "cell_type": "code",
      "source": [
        "text=input(\"문자열을 입력하시오 : \")\n",
        "print(text[0:2]+text[-2:])"
      ],
      "metadata": {
        "colab": {
          "base_uri": "https://localhost:8080/"
        },
        "id": "ddokGDVK3C3-",
        "outputId": "09e7f156-4d11-4799-ba3a-7f5126283943"
      },
      "execution_count": 4,
      "outputs": [
        {
          "output_type": "stream",
          "name": "stdout",
          "text": [
            "문자열을 입력하시오 : python\n",
            "pyon\n"
          ]
        }
      ]
    },
    {
      "cell_type": "code",
      "source": [
        "text=input(\"문자열을 입력하시오 : \")\n",
        "text2=\"하는 중\"\n",
        "print(text+text2)"
      ],
      "metadata": {
        "colab": {
          "base_uri": "https://localhost:8080/"
        },
        "id": "296VuiLr3Ld5",
        "outputId": "b4256a6c-0df7-41a9-8245-2bd0d82d1018"
      },
      "execution_count": 5,
      "outputs": [
        {
          "output_type": "stream",
          "name": "stdout",
          "text": [
            "문자열을 입력하시오 : 청소\n",
            "청소하는 중\n"
          ]
        }
      ]
    },
    {
      "cell_type": "code",
      "source": [
        " \n",
        "# 맨 처음과 마지막 기호만 추가됩니다.\n",
        "simbol =input(\"기호를 입력하세요 : \")\n",
        "text =input(\"문자열을 입력하시오 : \")\n",
        " \n",
        "print(simbol[:1]+text+simbol[-1:])"
      ],
      "metadata": {
        "colab": {
          "base_uri": "https://localhost:8080/"
        },
        "id": "e1_WAjH53Pex",
        "outputId": "374c7517-16bc-4a90-f4cc-a4c92bfcd588"
      },
      "execution_count": 8,
      "outputs": [
        {
          "output_type": "stream",
          "name": "stdout",
          "text": [
            "기호를 입력하세요 : []\n",
            "문자열을 입력하시오 : python\n",
            "[python]\n"
          ]
        }
      ]
    },
    {
      "cell_type": "code",
      "source": [
        " \n",
        "listNum =[\"1\", \"2\", \"3\", \"4\"]\n",
        "sum= int(listNum[0]) + int(listNum[1]) + int(listNum[2]) + int(listNum[3])\n",
        " \n",
        "print(\"리스트 = \", listNum)\n",
        "print(\"리스트 숫자들의 합 = \", sum)"
      ],
      "metadata": {
        "colab": {
          "base_uri": "https://localhost:8080/"
        },
        "id": "rjr80dgX3SVC",
        "outputId": "8df0494d-a4c4-4755-e950-061152f7f745"
      },
      "execution_count": 9,
      "outputs": [
        {
          "output_type": "stream",
          "name": "stdout",
          "text": [
            "리스트 =  ['1', '2', '3', '4']\n",
            "리스트 숫자들의 합 =  10\n"
          ]
        }
      ]
    }
  ]
}